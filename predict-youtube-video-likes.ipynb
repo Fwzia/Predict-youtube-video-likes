{
 "cells": [
  {
   "cell_type": "markdown",
   "id": "be3344cf",
   "metadata": {
    "papermill": {
     "duration": 0.018144,
     "end_time": "2022-01-25T23:45:14.581125",
     "exception": false,
     "start_time": "2022-01-25T23:45:14.562981",
     "status": "completed"
    },
    "tags": []
   },
   "source": [
    "# Import Libraries"
   ]
  },
  {
   "cell_type": "code",
   "execution_count": 1,
   "id": "7a04dd0c",
   "metadata": {
    "execution": {
     "iopub.execute_input": "2022-01-25T23:45:14.622855Z",
     "iopub.status.busy": "2022-01-25T23:45:14.621042Z",
     "iopub.status.idle": "2022-01-25T23:45:25.792334Z",
     "shell.execute_reply": "2022-01-25T23:45:25.791446Z",
     "shell.execute_reply.started": "2022-01-25T23:43:44.407948Z"
    },
    "papermill": {
     "duration": 11.192574,
     "end_time": "2022-01-25T23:45:25.792518",
     "exception": false,
     "start_time": "2022-01-25T23:45:14.599944",
     "status": "completed"
    },
    "tags": []
   },
   "outputs": [
    {
     "name": "stdout",
     "output_type": "stream",
     "text": [
      "Collecting feature_engine\r\n",
      "  Downloading feature_engine-1.2.0-py2.py3-none-any.whl (205 kB)\r\n",
      "     |████████████████████████████████| 205 kB 922 kB/s            \r\n",
      "\u001b[?25hRequirement already satisfied: pandas>=1.0.3 in /opt/conda/lib/python3.7/site-packages (from feature_engine) (1.3.4)\r\n",
      "Requirement already satisfied: numpy>=1.18.2 in /opt/conda/lib/python3.7/site-packages (from feature_engine) (1.19.5)\r\n",
      "Requirement already satisfied: scipy>=1.4.1 in /opt/conda/lib/python3.7/site-packages (from feature_engine) (1.7.3)\r\n",
      "Requirement already satisfied: statsmodels>=0.11.1 in /opt/conda/lib/python3.7/site-packages (from feature_engine) (0.12.2)\r\n",
      "Requirement already satisfied: scikit-learn>=0.22.2 in /opt/conda/lib/python3.7/site-packages (from feature_engine) (0.23.2)\r\n",
      "Requirement already satisfied: python-dateutil>=2.7.3 in /opt/conda/lib/python3.7/site-packages (from pandas>=1.0.3->feature_engine) (2.8.0)\r\n",
      "Requirement already satisfied: pytz>=2017.3 in /opt/conda/lib/python3.7/site-packages (from pandas>=1.0.3->feature_engine) (2021.3)\r\n",
      "Requirement already satisfied: threadpoolctl>=2.0.0 in /opt/conda/lib/python3.7/site-packages (from scikit-learn>=0.22.2->feature_engine) (3.0.0)\r\n",
      "Requirement already satisfied: joblib>=0.11 in /opt/conda/lib/python3.7/site-packages (from scikit-learn>=0.22.2->feature_engine) (1.1.0)\r\n",
      "Requirement already satisfied: patsy>=0.5 in /opt/conda/lib/python3.7/site-packages (from statsmodels>=0.11.1->feature_engine) (0.5.2)\r\n",
      "Requirement already satisfied: six in /opt/conda/lib/python3.7/site-packages (from patsy>=0.5->statsmodels>=0.11.1->feature_engine) (1.16.0)\r\n",
      "Installing collected packages: feature-engine\r\n",
      "Successfully installed feature-engine-1.2.0\r\n",
      "\u001b[33mWARNING: Running pip as the 'root' user can result in broken permissions and conflicting behaviour with the system package manager. It is recommended to use a virtual environment instead: https://pip.pypa.io/warnings/venv\u001b[0m\r\n"
     ]
    }
   ],
   "source": [
    "!pip install feature_engine"
   ]
  },
  {
   "cell_type": "code",
   "execution_count": 2,
   "id": "655a70d5",
   "metadata": {
    "execution": {
     "iopub.execute_input": "2022-01-25T23:45:25.843493Z",
     "iopub.status.busy": "2022-01-25T23:45:25.842556Z",
     "iopub.status.idle": "2022-01-25T23:45:29.417319Z",
     "shell.execute_reply": "2022-01-25T23:45:29.416789Z",
     "shell.execute_reply.started": "2022-01-25T23:43:53.125780Z"
    },
    "papermill": {
     "duration": 3.602833,
     "end_time": "2022-01-25T23:45:29.417461",
     "exception": false,
     "start_time": "2022-01-25T23:45:25.814628",
     "status": "completed"
    },
    "tags": []
   },
   "outputs": [
    {
     "data": {
      "text/html": [
       "<style type='text/css'>\n",
       ".datatable table.frame { margin-bottom: 0; }\n",
       ".datatable table.frame thead { border-bottom: none; }\n",
       ".datatable table.frame tr.coltypes td {  color: #FFFFFF;  line-height: 6px;  padding: 0 0.5em;}\n",
       ".datatable .bool    { background: #DDDD99; }\n",
       ".datatable .object  { background: #565656; }\n",
       ".datatable .int     { background: #5D9E5D; }\n",
       ".datatable .float   { background: #4040CC; }\n",
       ".datatable .str     { background: #CC4040; }\n",
       ".datatable .time    { background: #40CC40; }\n",
       ".datatable .row_index {  background: var(--jp-border-color3);  border-right: 1px solid var(--jp-border-color0);  color: var(--jp-ui-font-color3);  font-size: 9px;}\n",
       ".datatable .frame tbody td { text-align: left; }\n",
       ".datatable .frame tr.coltypes .row_index {  background: var(--jp-border-color0);}\n",
       ".datatable th:nth-child(2) { padding-left: 12px; }\n",
       ".datatable .hellipsis {  color: var(--jp-cell-editor-border-color);}\n",
       ".datatable .vellipsis {  background: var(--jp-layout-color0);  color: var(--jp-cell-editor-border-color);}\n",
       ".datatable .na {  color: var(--jp-cell-editor-border-color);  font-size: 80%;}\n",
       ".datatable .sp {  opacity: 0.25;}\n",
       ".datatable .footer { font-size: 9px; }\n",
       ".datatable .frame_dimensions {  background: var(--jp-border-color3);  border-top: 1px solid var(--jp-border-color0);  color: var(--jp-ui-font-color3);  display: inline-block;  opacity: 0.6;  padding: 1px 10px 1px 5px;}\n",
       "</style>\n"
      ],
      "text/plain": [
       "<IPython.core.display.HTML object>"
      ]
     },
     "metadata": {},
     "output_type": "display_data"
    }
   ],
   "source": [
    "import numpy as np\n",
    "import pandas as pd\n",
    "import matplotlib.pyplot as plt\n",
    "from feature_engine.imputation import AddMissingIndicator\n",
    "from feature_engine.encoding import MeanEncoder, RareLabelEncoder\n",
    "from sklearn.pipeline import Pipeline\n",
    "from lightgbm import LGBMRegressor\n",
    "import shap\n",
    "random_state = 123"
   ]
  },
  {
   "cell_type": "markdown",
   "id": "3cb49972",
   "metadata": {
    "papermill": {
     "duration": 0.020022,
     "end_time": "2022-01-25T23:45:29.458009",
     "exception": false,
     "start_time": "2022-01-25T23:45:29.437987",
     "status": "completed"
    },
    "tags": []
   },
   "source": [
    "## looking at the big picture it seems a multiple univariate regression _ supervised learning "
   ]
  },
  {
   "cell_type": "markdown",
   "id": "2bd9029c",
   "metadata": {
    "papermill": {
     "duration": 0.019916,
     "end_time": "2022-01-25T23:45:29.498214",
     "exception": false,
     "start_time": "2022-01-25T23:45:29.478298",
     "status": "completed"
    },
    "tags": []
   },
   "source": [
    "# Get the data"
   ]
  },
  {
   "cell_type": "code",
   "execution_count": 3,
   "id": "040ca193",
   "metadata": {
    "execution": {
     "iopub.execute_input": "2022-01-25T23:45:29.544024Z",
     "iopub.status.busy": "2022-01-25T23:45:29.543172Z",
     "iopub.status.idle": "2022-01-25T23:45:30.890718Z",
     "shell.execute_reply": "2022-01-25T23:45:30.890014Z",
     "shell.execute_reply.started": "2022-01-25T23:43:54.717145Z"
    },
    "papermill": {
     "duration": 1.372469,
     "end_time": "2022-01-25T23:45:30.890862",
     "exception": false,
     "start_time": "2022-01-25T23:45:29.518393",
     "status": "completed"
    },
    "tags": []
   },
   "outputs": [],
   "source": [
    "train_set = pd.read_parquet('../input/kaggle-pog-series-s01e01/train.parquet')\n",
    "test_set = pd.read_parquet('../input/kaggle-pog-series-s01e01/test.parquet')\n",
    "submission = pd.read_csv('../input/kaggle-pog-series-s01e01/sample_submission.csv')"
   ]
  },
  {
   "cell_type": "markdown",
   "id": "569fa083",
   "metadata": {
    "papermill": {
     "duration": 0.019992,
     "end_time": "2022-01-25T23:45:30.931764",
     "exception": false,
     "start_time": "2022-01-25T23:45:30.911772",
     "status": "completed"
    },
    "tags": []
   },
   "source": [
    "# Discover & visualize the Data to gain insights"
   ]
  },
  {
   "cell_type": "code",
   "execution_count": 4,
   "id": "9efd96e0",
   "metadata": {
    "execution": {
     "iopub.execute_input": "2022-01-25T23:45:30.979034Z",
     "iopub.status.busy": "2022-01-25T23:45:30.978155Z",
     "iopub.status.idle": "2022-01-25T23:45:30.981226Z",
     "shell.execute_reply": "2022-01-25T23:45:30.981734Z",
     "shell.execute_reply.started": "2022-01-25T23:43:55.344844Z"
    },
    "papermill": {
     "duration": 0.029888,
     "end_time": "2022-01-25T23:45:30.981896",
     "exception": false,
     "start_time": "2022-01-25T23:45:30.952008",
     "status": "completed"
    },
    "tags": []
   },
   "outputs": [
    {
     "data": {
      "text/plain": [
       "((92275, 20), (5800, 16), (5, 2))"
      ]
     },
     "execution_count": 4,
     "metadata": {},
     "output_type": "execute_result"
    }
   ],
   "source": [
    "train_set.shape, test_set.shape, submission.shape"
   ]
  },
  {
   "cell_type": "code",
   "execution_count": 5,
   "id": "6cfe3341",
   "metadata": {
    "execution": {
     "iopub.execute_input": "2022-01-25T23:45:31.027079Z",
     "iopub.status.busy": "2022-01-25T23:45:31.026070Z",
     "iopub.status.idle": "2022-01-25T23:45:31.053128Z",
     "shell.execute_reply": "2022-01-25T23:45:31.053704Z",
     "shell.execute_reply.started": "2022-01-25T23:43:55.352185Z"
    },
    "papermill": {
     "duration": 0.051405,
     "end_time": "2022-01-25T23:45:31.053878",
     "exception": false,
     "start_time": "2022-01-25T23:45:31.002473",
     "status": "completed"
    },
    "tags": []
   },
   "outputs": [
    {
     "data": {
      "text/html": [
       "<div>\n",
       "<style scoped>\n",
       "    .dataframe tbody tr th:only-of-type {\n",
       "        vertical-align: middle;\n",
       "    }\n",
       "\n",
       "    .dataframe tbody tr th {\n",
       "        vertical-align: top;\n",
       "    }\n",
       "\n",
       "    .dataframe thead th {\n",
       "        text-align: right;\n",
       "    }\n",
       "</style>\n",
       "<table border=\"1\" class=\"dataframe\">\n",
       "  <thead>\n",
       "    <tr style=\"text-align: right;\">\n",
       "      <th></th>\n",
       "      <th>video_id</th>\n",
       "      <th>title</th>\n",
       "      <th>publishedAt</th>\n",
       "      <th>channelId</th>\n",
       "      <th>channelTitle</th>\n",
       "      <th>categoryId</th>\n",
       "      <th>trending_date</th>\n",
       "      <th>tags</th>\n",
       "      <th>view_count</th>\n",
       "      <th>likes</th>\n",
       "      <th>dislikes</th>\n",
       "      <th>comment_count</th>\n",
       "      <th>thumbnail_link</th>\n",
       "      <th>comments_disabled</th>\n",
       "      <th>ratings_disabled</th>\n",
       "      <th>description</th>\n",
       "      <th>id</th>\n",
       "      <th>duration_seconds</th>\n",
       "      <th>has_thumbnail</th>\n",
       "      <th>target</th>\n",
       "    </tr>\n",
       "  </thead>\n",
       "  <tbody>\n",
       "    <tr>\n",
       "      <th>0</th>\n",
       "      <td>3C66w5Z0ixs</td>\n",
       "      <td>I ASKED HER TO BE MY GIRLFRIEND...</td>\n",
       "      <td>2020-08-11 19:20:14+00:00</td>\n",
       "      <td>UCvtRTOMP2TqYqu51xNrqAzg</td>\n",
       "      <td>Brawadis</td>\n",
       "      <td>22</td>\n",
       "      <td>2020-08-12</td>\n",
       "      <td>brawadis|prank|basketball|skits|ghost|funny vi...</td>\n",
       "      <td>1514614</td>\n",
       "      <td>156908</td>\n",
       "      <td>5855</td>\n",
       "      <td>35313</td>\n",
       "      <td>https://i.ytimg.com/vi/3C66w5Z0ixs/default.jpg</td>\n",
       "      <td>False</td>\n",
       "      <td>False</td>\n",
       "      <td>SUBSCRIBE to BRAWADIS ▶ http://bit.ly/Subscrib...</td>\n",
       "      <td>3C66w5Z0ixs_2020-08-12</td>\n",
       "      <td>NaN</td>\n",
       "      <td>True</td>\n",
       "      <td>0.103596</td>\n",
       "    </tr>\n",
       "    <tr>\n",
       "      <th>1</th>\n",
       "      <td>M9Pmf9AB4Mo</td>\n",
       "      <td>Apex Legends | Stories from the Outlands – “Th...</td>\n",
       "      <td>2020-08-11 17:00:10+00:00</td>\n",
       "      <td>UC0ZV6M2THA81QT9hrVWJG3A</td>\n",
       "      <td>Apex Legends</td>\n",
       "      <td>20</td>\n",
       "      <td>2020-08-12</td>\n",
       "      <td>Apex Legends|Apex Legends characters|new Apex ...</td>\n",
       "      <td>2381688</td>\n",
       "      <td>146739</td>\n",
       "      <td>2794</td>\n",
       "      <td>16549</td>\n",
       "      <td>https://i.ytimg.com/vi/M9Pmf9AB4Mo/default.jpg</td>\n",
       "      <td>False</td>\n",
       "      <td>False</td>\n",
       "      <td>While running her own modding shop, Ramya Pare...</td>\n",
       "      <td>M9Pmf9AB4Mo_2020-08-12</td>\n",
       "      <td>NaN</td>\n",
       "      <td>True</td>\n",
       "      <td>0.061611</td>\n",
       "    </tr>\n",
       "    <tr>\n",
       "      <th>2</th>\n",
       "      <td>J78aPJ3VyNs</td>\n",
       "      <td>I left youtube for a month and THIS is what ha...</td>\n",
       "      <td>2020-08-11 16:34:06+00:00</td>\n",
       "      <td>UCYzPXprvl5Y-Sf0g4vX-m6g</td>\n",
       "      <td>jacksepticeye</td>\n",
       "      <td>24</td>\n",
       "      <td>2020-08-12</td>\n",
       "      <td>jacksepticeye|funny|funny meme|memes|jacksepti...</td>\n",
       "      <td>2038853</td>\n",
       "      <td>353787</td>\n",
       "      <td>2628</td>\n",
       "      <td>40221</td>\n",
       "      <td>https://i.ytimg.com/vi/J78aPJ3VyNs/default.jpg</td>\n",
       "      <td>False</td>\n",
       "      <td>False</td>\n",
       "      <td>I left youtube for a month and this is what ha...</td>\n",
       "      <td>J78aPJ3VyNs_2020-08-12</td>\n",
       "      <td>NaN</td>\n",
       "      <td>True</td>\n",
       "      <td>0.173523</td>\n",
       "    </tr>\n",
       "    <tr>\n",
       "      <th>3</th>\n",
       "      <td>kXLn3HkpjaA</td>\n",
       "      <td>XXL 2020 Freshman Class Revealed - Official An...</td>\n",
       "      <td>2020-08-11 16:38:55+00:00</td>\n",
       "      <td>UCbg_UMjlHJg_19SZckaKajg</td>\n",
       "      <td>XXL</td>\n",
       "      <td>10</td>\n",
       "      <td>2020-08-12</td>\n",
       "      <td>xxl freshman|xxl freshmen|2020 xxl freshman|20...</td>\n",
       "      <td>496771</td>\n",
       "      <td>23251</td>\n",
       "      <td>1856</td>\n",
       "      <td>7647</td>\n",
       "      <td>https://i.ytimg.com/vi/kXLn3HkpjaA/default.jpg</td>\n",
       "      <td>False</td>\n",
       "      <td>False</td>\n",
       "      <td>Subscribe to XXL → http://bit.ly/subscribe-xxl...</td>\n",
       "      <td>kXLn3HkpjaA_2020-08-12</td>\n",
       "      <td>NaN</td>\n",
       "      <td>True</td>\n",
       "      <td>0.046804</td>\n",
       "    </tr>\n",
       "    <tr>\n",
       "      <th>4</th>\n",
       "      <td>VIUo6yapDbc</td>\n",
       "      <td>Ultimate DIY Home Movie Theater for The LaBran...</td>\n",
       "      <td>2020-08-11 15:10:05+00:00</td>\n",
       "      <td>UCDVPcEbVLQgLZX0Rt6jo34A</td>\n",
       "      <td>Mr. Kate</td>\n",
       "      <td>26</td>\n",
       "      <td>2020-08-12</td>\n",
       "      <td>The LaBrant Family|DIY|Interior Design|Makeove...</td>\n",
       "      <td>1123889</td>\n",
       "      <td>45802</td>\n",
       "      <td>964</td>\n",
       "      <td>2196</td>\n",
       "      <td>https://i.ytimg.com/vi/VIUo6yapDbc/default.jpg</td>\n",
       "      <td>False</td>\n",
       "      <td>False</td>\n",
       "      <td>Transforming The LaBrant Family's empty white ...</td>\n",
       "      <td>VIUo6yapDbc_2020-08-12</td>\n",
       "      <td>NaN</td>\n",
       "      <td>True</td>\n",
       "      <td>0.040753</td>\n",
       "    </tr>\n",
       "  </tbody>\n",
       "</table>\n",
       "</div>"
      ],
      "text/plain": [
       "      video_id                                              title  \\\n",
       "0  3C66w5Z0ixs                 I ASKED HER TO BE MY GIRLFRIEND...   \n",
       "1  M9Pmf9AB4Mo  Apex Legends | Stories from the Outlands – “Th...   \n",
       "2  J78aPJ3VyNs  I left youtube for a month and THIS is what ha...   \n",
       "3  kXLn3HkpjaA  XXL 2020 Freshman Class Revealed - Official An...   \n",
       "4  VIUo6yapDbc  Ultimate DIY Home Movie Theater for The LaBran...   \n",
       "\n",
       "                publishedAt                 channelId   channelTitle  \\\n",
       "0 2020-08-11 19:20:14+00:00  UCvtRTOMP2TqYqu51xNrqAzg       Brawadis   \n",
       "1 2020-08-11 17:00:10+00:00  UC0ZV6M2THA81QT9hrVWJG3A   Apex Legends   \n",
       "2 2020-08-11 16:34:06+00:00  UCYzPXprvl5Y-Sf0g4vX-m6g  jacksepticeye   \n",
       "3 2020-08-11 16:38:55+00:00  UCbg_UMjlHJg_19SZckaKajg            XXL   \n",
       "4 2020-08-11 15:10:05+00:00  UCDVPcEbVLQgLZX0Rt6jo34A       Mr. Kate   \n",
       "\n",
       "   categoryId trending_date  \\\n",
       "0          22    2020-08-12   \n",
       "1          20    2020-08-12   \n",
       "2          24    2020-08-12   \n",
       "3          10    2020-08-12   \n",
       "4          26    2020-08-12   \n",
       "\n",
       "                                                tags  view_count   likes  \\\n",
       "0  brawadis|prank|basketball|skits|ghost|funny vi...     1514614  156908   \n",
       "1  Apex Legends|Apex Legends characters|new Apex ...     2381688  146739   \n",
       "2  jacksepticeye|funny|funny meme|memes|jacksepti...     2038853  353787   \n",
       "3  xxl freshman|xxl freshmen|2020 xxl freshman|20...      496771   23251   \n",
       "4  The LaBrant Family|DIY|Interior Design|Makeove...     1123889   45802   \n",
       "\n",
       "   dislikes  comment_count                                  thumbnail_link  \\\n",
       "0      5855          35313  https://i.ytimg.com/vi/3C66w5Z0ixs/default.jpg   \n",
       "1      2794          16549  https://i.ytimg.com/vi/M9Pmf9AB4Mo/default.jpg   \n",
       "2      2628          40221  https://i.ytimg.com/vi/J78aPJ3VyNs/default.jpg   \n",
       "3      1856           7647  https://i.ytimg.com/vi/kXLn3HkpjaA/default.jpg   \n",
       "4       964           2196  https://i.ytimg.com/vi/VIUo6yapDbc/default.jpg   \n",
       "\n",
       "   comments_disabled  ratings_disabled  \\\n",
       "0              False             False   \n",
       "1              False             False   \n",
       "2              False             False   \n",
       "3              False             False   \n",
       "4              False             False   \n",
       "\n",
       "                                         description                      id  \\\n",
       "0  SUBSCRIBE to BRAWADIS ▶ http://bit.ly/Subscrib...  3C66w5Z0ixs_2020-08-12   \n",
       "1  While running her own modding shop, Ramya Pare...  M9Pmf9AB4Mo_2020-08-12   \n",
       "2  I left youtube for a month and this is what ha...  J78aPJ3VyNs_2020-08-12   \n",
       "3  Subscribe to XXL → http://bit.ly/subscribe-xxl...  kXLn3HkpjaA_2020-08-12   \n",
       "4  Transforming The LaBrant Family's empty white ...  VIUo6yapDbc_2020-08-12   \n",
       "\n",
       "   duration_seconds  has_thumbnail    target  \n",
       "0               NaN           True  0.103596  \n",
       "1               NaN           True  0.061611  \n",
       "2               NaN           True  0.173523  \n",
       "3               NaN           True  0.046804  \n",
       "4               NaN           True  0.040753  "
      ]
     },
     "execution_count": 5,
     "metadata": {},
     "output_type": "execute_result"
    }
   ],
   "source": [
    "train_set.head()"
   ]
  },
  {
   "cell_type": "code",
   "execution_count": 6,
   "id": "5686ddb0",
   "metadata": {
    "execution": {
     "iopub.execute_input": "2022-01-25T23:45:31.101017Z",
     "iopub.status.busy": "2022-01-25T23:45:31.100062Z",
     "iopub.status.idle": "2022-01-25T23:45:31.214326Z",
     "shell.execute_reply": "2022-01-25T23:45:31.213692Z",
     "shell.execute_reply.started": "2022-01-25T23:43:55.386142Z"
    },
    "papermill": {
     "duration": 0.138879,
     "end_time": "2022-01-25T23:45:31.214465",
     "exception": false,
     "start_time": "2022-01-25T23:45:31.075586",
     "status": "completed"
    },
    "tags": []
   },
   "outputs": [
    {
     "name": "stdout",
     "output_type": "stream",
     "text": [
      "<class 'pandas.core.frame.DataFrame'>\n",
      "RangeIndex: 92275 entries, 0 to 92274\n",
      "Data columns (total 20 columns):\n",
      " #   Column             Non-Null Count  Dtype              \n",
      "---  ------             --------------  -----              \n",
      " 0   video_id           92275 non-null  object             \n",
      " 1   title              92275 non-null  object             \n",
      " 2   publishedAt        92275 non-null  datetime64[ns, UTC]\n",
      " 3   channelId          92275 non-null  object             \n",
      " 4   channelTitle       92275 non-null  object             \n",
      " 5   categoryId         92275 non-null  int64              \n",
      " 6   trending_date      92275 non-null  object             \n",
      " 7   tags               92275 non-null  object             \n",
      " 8   view_count         92275 non-null  int64              \n",
      " 9   likes              92275 non-null  int64              \n",
      " 10  dislikes           92275 non-null  int64              \n",
      " 11  comment_count      92275 non-null  int64              \n",
      " 12  thumbnail_link     92275 non-null  object             \n",
      " 13  comments_disabled  92275 non-null  bool               \n",
      " 14  ratings_disabled   92275 non-null  bool               \n",
      " 15  description        90799 non-null  object             \n",
      " 16  id                 92275 non-null  object             \n",
      " 17  duration_seconds   90099 non-null  float64            \n",
      " 18  has_thumbnail      92275 non-null  bool               \n",
      " 19  target             92275 non-null  float64            \n",
      "dtypes: bool(3), datetime64[ns, UTC](1), float64(2), int64(5), object(9)\n",
      "memory usage: 12.2+ MB\n"
     ]
    }
   ],
   "source": [
    "train_set.info()"
   ]
  },
  {
   "cell_type": "code",
   "execution_count": 7,
   "id": "03b373ce",
   "metadata": {
    "execution": {
     "iopub.execute_input": "2022-01-25T23:45:31.279096Z",
     "iopub.status.busy": "2022-01-25T23:45:31.276671Z",
     "iopub.status.idle": "2022-01-25T23:45:31.282077Z",
     "shell.execute_reply": "2022-01-25T23:45:31.281453Z",
     "shell.execute_reply.started": "2022-01-25T23:43:55.501569Z"
    },
    "papermill": {
     "duration": 0.043381,
     "end_time": "2022-01-25T23:45:31.282221",
     "exception": false,
     "start_time": "2022-01-25T23:45:31.238840",
     "status": "completed"
    },
    "tags": []
   },
   "outputs": [],
   "source": [
    "#I notice that \"description, duration_seconds\" had missing values ..let's take care of this\n",
    "train_set[\"description\"].fillna('None', inplace=True)"
   ]
  },
  {
   "cell_type": "code",
   "execution_count": 8,
   "id": "6763d0c5",
   "metadata": {
    "execution": {
     "iopub.execute_input": "2022-01-25T23:45:31.341133Z",
     "iopub.status.busy": "2022-01-25T23:45:31.330987Z",
     "iopub.status.idle": "2022-01-25T23:45:31.345106Z",
     "shell.execute_reply": "2022-01-25T23:45:31.345657Z",
     "shell.execute_reply.started": "2022-01-25T23:43:55.519574Z"
    },
    "papermill": {
     "duration": 0.041516,
     "end_time": "2022-01-25T23:45:31.345832",
     "exception": false,
     "start_time": "2022-01-25T23:45:31.304316",
     "status": "completed"
    },
    "tags": []
   },
   "outputs": [],
   "source": [
    "train_set[\"duration_seconds\"].fillna('median', inplace=True)"
   ]
  },
  {
   "cell_type": "code",
   "execution_count": 9,
   "id": "4a5714c3",
   "metadata": {
    "execution": {
     "iopub.execute_input": "2022-01-25T23:45:31.487040Z",
     "iopub.status.busy": "2022-01-25T23:45:31.486386Z",
     "iopub.status.idle": "2022-01-25T23:45:31.507672Z",
     "shell.execute_reply": "2022-01-25T23:45:31.507076Z",
     "shell.execute_reply.started": "2022-01-25T23:43:55.548275Z"
    },
    "papermill": {
     "duration": 0.140193,
     "end_time": "2022-01-25T23:45:31.507816",
     "exception": false,
     "start_time": "2022-01-25T23:45:31.367623",
     "status": "completed"
    },
    "tags": []
   },
   "outputs": [
    {
     "name": "stdout",
     "output_type": "stream",
     "text": [
      "<class 'pandas.core.frame.DataFrame'>\n",
      "RangeIndex: 92275 entries, 0 to 92274\n",
      "Data columns (total 20 columns):\n",
      " #   Column             Non-Null Count  Dtype              \n",
      "---  ------             --------------  -----              \n",
      " 0   video_id           92275 non-null  object             \n",
      " 1   title              92275 non-null  object             \n",
      " 2   publishedAt        92275 non-null  datetime64[ns, UTC]\n",
      " 3   channelId          92275 non-null  object             \n",
      " 4   channelTitle       92275 non-null  object             \n",
      " 5   categoryId         92275 non-null  int64              \n",
      " 6   trending_date      92275 non-null  object             \n",
      " 7   tags               92275 non-null  object             \n",
      " 8   view_count         92275 non-null  int64              \n",
      " 9   likes              92275 non-null  int64              \n",
      " 10  dislikes           92275 non-null  int64              \n",
      " 11  comment_count      92275 non-null  int64              \n",
      " 12  thumbnail_link     92275 non-null  object             \n",
      " 13  comments_disabled  92275 non-null  bool               \n",
      " 14  ratings_disabled   92275 non-null  bool               \n",
      " 15  description        92275 non-null  object             \n",
      " 16  id                 92275 non-null  object             \n",
      " 17  duration_seconds   92275 non-null  object             \n",
      " 18  has_thumbnail      92275 non-null  bool               \n",
      " 19  target             92275 non-null  float64            \n",
      "dtypes: bool(3), datetime64[ns, UTC](1), float64(1), int64(5), object(10)\n",
      "memory usage: 12.2+ MB\n"
     ]
    }
   ],
   "source": [
    "train_set.info()"
   ]
  },
  {
   "cell_type": "code",
   "execution_count": 10,
   "id": "eae2021e",
   "metadata": {
    "execution": {
     "iopub.execute_input": "2022-01-25T23:45:31.556791Z",
     "iopub.status.busy": "2022-01-25T23:45:31.556143Z",
     "iopub.status.idle": "2022-01-25T23:45:33.998926Z",
     "shell.execute_reply": "2022-01-25T23:45:33.999487Z",
     "shell.execute_reply.started": "2022-01-25T23:43:55.660772Z"
    },
    "papermill": {
     "duration": 2.469612,
     "end_time": "2022-01-25T23:45:33.999677",
     "exception": false,
     "start_time": "2022-01-25T23:45:31.530065",
     "status": "completed"
    },
    "tags": []
   },
   "outputs": [
    {
     "data": {
      "text/plain": [
       "array([[<AxesSubplot:title={'center':'publishedAt'}>,\n",
       "        <AxesSubplot:title={'center':'categoryId'}>,\n",
       "        <AxesSubplot:title={'center':'view_count'}>],\n",
       "       [<AxesSubplot:title={'center':'likes'}>,\n",
       "        <AxesSubplot:title={'center':'dislikes'}>,\n",
       "        <AxesSubplot:title={'center':'comment_count'}>],\n",
       "       [<AxesSubplot:title={'center':'target'}>, <AxesSubplot:>,\n",
       "        <AxesSubplot:>]], dtype=object)"
      ]
     },
     "execution_count": 10,
     "metadata": {},
     "output_type": "execute_result"
    },
    {
     "data": {
      "image/png": "[encoded data removed]",
      "text/plain": [
       "<Figure size 2520x2160 with 9 Axes>"
      ]
     },
     "metadata": {
      "needs_background": "light"
     },
     "output_type": "display_data"
    }
   ],
   "source": [
    "train_set.hist(bins=50, figsize=(35,30))"
   ]
  },
  {
   "cell_type": "code",
   "execution_count": 11,
   "id": "4d8e5416",
   "metadata": {
    "execution": {
     "iopub.execute_input": "2022-01-25T23:45:34.053461Z",
     "iopub.status.busy": "2022-01-25T23:45:34.052832Z",
     "iopub.status.idle": "2022-01-25T23:45:34.089083Z",
     "shell.execute_reply": "2022-01-25T23:45:34.089542Z",
     "shell.execute_reply.started": "2022-01-25T23:43:58.073881Z"
    },
    "papermill": {
     "duration": 0.064186,
     "end_time": "2022-01-25T23:45:34.089715",
     "exception": false,
     "start_time": "2022-01-25T23:45:34.025529",
     "status": "completed"
    },
    "tags": []
   },
   "outputs": [
    {
     "data": {
      "text/plain": [
       "target               1.000000\n",
       "likes                0.203877\n",
       "comment_count        0.081980\n",
       "has_thumbnail        0.019487\n",
       "dislikes             0.004226\n",
       "view_count          -0.021704\n",
       "comments_disabled   -0.089399\n",
       "categoryId          -0.096996\n",
       "ratings_disabled    -0.098274\n",
       "Name: target, dtype: float64"
      ]
     },
     "execution_count": 11,
     "metadata": {},
     "output_type": "execute_result"
    }
   ],
   "source": [
    "#Look for correlations\n",
    "corr_matrix = train_set.corr()\n",
    "corr_matrix[\"target\"].sort_values(ascending=False)"
   ]
  },
  {
   "cell_type": "code",
   "execution_count": 12,
   "id": "5904249f",
   "metadata": {
    "execution": {
     "iopub.execute_input": "2022-01-25T23:45:34.146028Z",
     "iopub.status.busy": "2022-01-25T23:45:34.145321Z",
     "iopub.status.idle": "2022-01-25T23:45:34.158073Z",
     "shell.execute_reply": "2022-01-25T23:45:34.157550Z",
     "shell.execute_reply.started": "2022-01-25T23:43:58.110911Z"
    },
    "papermill": {
     "duration": 0.043507,
     "end_time": "2022-01-25T23:45:34.158214",
     "exception": false,
     "start_time": "2022-01-25T23:45:34.114707",
     "status": "completed"
    },
    "tags": []
   },
   "outputs": [
    {
     "data": {
      "text/plain": [
       "Index(['video_id', 'title', 'channelId', 'channelTitle', 'categoryId', 'tags',\n",
       "       'view_count', 'likes', 'dislikes', 'comment_count', 'thumbnail_link',\n",
       "       'comments_disabled', 'ratings_disabled', 'description', 'id',\n",
       "       'duration_seconds', 'has_thumbnail', 'target'],\n",
       "      dtype='object')"
      ]
     },
     "execution_count": 12,
     "metadata": {},
     "output_type": "execute_result"
    }
   ],
   "source": [
    "drop_cols=['publishedAt', 'trending_date']\n",
    "train=train_set.drop(drop_cols,axis=1)\n",
    "train.columns"
   ]
  },
  {
   "cell_type": "code",
   "execution_count": 13,
   "id": "046ea2f9",
   "metadata": {
    "execution": {
     "iopub.execute_input": "2022-01-25T23:45:34.211641Z",
     "iopub.status.busy": "2022-01-25T23:45:34.211017Z",
     "iopub.status.idle": "2022-01-25T23:45:34.258100Z",
     "shell.execute_reply": "2022-01-25T23:45:34.257576Z",
     "shell.execute_reply.started": "2022-01-25T23:43:58.131083Z"
    },
    "papermill": {
     "duration": 0.074782,
     "end_time": "2022-01-25T23:45:34.258256",
     "exception": false,
     "start_time": "2022-01-25T23:45:34.183474",
     "status": "completed"
    },
    "tags": []
   },
   "outputs": [],
   "source": [
    "#Code by Diego Risco https://www.kaggle.com/ggxgboostgg/wids-2022-shap-values-validation/notebook\n",
    "\n",
    "cat_var = train.select_dtypes(include=[object]).columns.to_list()\n",
    "cat_var.append('categoryId')\n",
    "x_train = train.drop(['target'], axis = 1)\n",
    "y_train = train.copy()['target']"
   ]
  },
  {
   "cell_type": "code",
   "execution_count": 14,
   "id": "ac57e6d4",
   "metadata": {
    "execution": {
     "iopub.execute_input": "2022-01-25T23:45:34.315694Z",
     "iopub.status.busy": "2022-01-25T23:45:34.315050Z",
     "iopub.status.idle": "2022-01-25T23:45:34.317363Z",
     "shell.execute_reply": "2022-01-25T23:45:34.317857Z",
     "shell.execute_reply.started": "2022-01-25T23:43:58.184629Z"
    },
    "papermill": {
     "duration": 0.034304,
     "end_time": "2022-01-25T23:45:34.318086",
     "exception": false,
     "start_time": "2022-01-25T23:45:34.283782",
     "status": "completed"
    },
    "tags": []
   },
   "outputs": [],
   "source": [
    "#Code by Diego Risco https://www.kaggle.com/ggxgboostgg/wids-2022-shap-values-validation/notebook\n",
    "\n",
    "addBinary_imputer = AddMissingIndicator()\n",
    "rare_encoder = RareLabelEncoder(tol=0.02, n_categories=2, variables=cat_var,\n",
    "                           replace_with=-999, ignore_format = True)\n",
    "mean_encoder = MeanEncoder(variables=cat_var, ignore_format = True)\n",
    "\n",
    "pipe = Pipeline([('indicator', addBinary_imputer),\n",
    "                 ('RareLabelEncoder1', rare_encoder),\n",
    "                 ('MeanEncoder', mean_encoder)])"
   ]
  },
  {
   "cell_type": "code",
   "execution_count": 15,
   "id": "315ac1d3",
   "metadata": {
    "execution": {
     "iopub.execute_input": "2022-01-25T23:45:34.372434Z",
     "iopub.status.busy": "2022-01-25T23:45:34.371810Z",
     "iopub.status.idle": "2022-01-25T23:45:34.374971Z",
     "shell.execute_reply": "2022-01-25T23:45:34.375566Z",
     "shell.execute_reply.started": "2022-01-25T23:43:58.194128Z"
    },
    "papermill": {
     "duration": 0.031863,
     "end_time": "2022-01-25T23:45:34.375722",
     "exception": false,
     "start_time": "2022-01-25T23:45:34.343859",
     "status": "completed"
    },
    "tags": []
   },
   "outputs": [],
   "source": [
    "lgbm_model = LGBMRegressor(random_state = random_state)"
   ]
  },
  {
   "cell_type": "code",
   "execution_count": 16,
   "id": "9a89f46d",
   "metadata": {
    "execution": {
     "iopub.execute_input": "2022-01-25T23:45:34.430361Z",
     "iopub.status.busy": "2022-01-25T23:45:34.429759Z",
     "iopub.status.idle": "2022-01-25T23:45:36.618809Z",
     "shell.execute_reply": "2022-01-25T23:45:36.619697Z",
     "shell.execute_reply.started": "2022-01-25T23:43:58.206065Z"
    },
    "papermill": {
     "duration": 2.218919,
     "end_time": "2022-01-25T23:45:36.619889",
     "exception": false,
     "start_time": "2022-01-25T23:45:34.400970",
     "status": "completed"
    },
    "tags": []
   },
   "outputs": [
    {
     "data": {
      "text/plain": [
       "LGBMRegressor(random_state=123)"
      ]
     },
     "execution_count": 16,
     "metadata": {},
     "output_type": "execute_result"
    }
   ],
   "source": [
    "x_train_processed = pipe.fit_transform(x_train, y_train)\n",
    "lgbm_model.fit(x_train_processed,y_train)"
   ]
  },
  {
   "cell_type": "code",
   "execution_count": 17,
   "id": "ecb55c9c",
   "metadata": {
    "execution": {
     "iopub.execute_input": "2022-01-25T23:45:36.675636Z",
     "iopub.status.busy": "2022-01-25T23:45:36.675027Z",
     "iopub.status.idle": "2022-01-25T23:46:07.318494Z",
     "shell.execute_reply": "2022-01-25T23:46:07.319037Z",
     "shell.execute_reply.started": "2022-01-25T23:44:00.351727Z"
    },
    "papermill": {
     "duration": 30.672301,
     "end_time": "2022-01-25T23:46:07.319212",
     "exception": false,
     "start_time": "2022-01-25T23:45:36.646911",
     "status": "completed"
    },
    "tags": []
   },
   "outputs": [
    {
     "data": {
      "image/png": "[encoded data removed]",
      "text/plain": [
       "<Figure size 576x597.6 with 2 Axes>"
      ]
     },
     "metadata": {
      "needs_background": "light"
     },
     "output_type": "display_data"
    }
   ],
   "source": [
    "#Code by Diego Risco https://www.kaggle.com/ggxgboostgg/wids-2022-shap-values-validation/notebook\n",
    "\n",
    "shap_values = shap.TreeExplainer(lgbm_model).shap_values(x_train_processed)\n",
    "shap.summary_plot(shap_values, x_train_processed)"
   ]
  },
  {
   "cell_type": "code",
   "execution_count": null,
   "id": "ab79b0e2",
   "metadata": {
    "papermill": {
     "duration": 0.026965,
     "end_time": "2022-01-25T23:46:07.373233",
     "exception": false,
     "start_time": "2022-01-25T23:46:07.346268",
     "status": "completed"
    },
    "tags": []
   },
   "outputs": [],
   "source": []
  }
 ],
 "metadata": {
  "kernelspec": {
   "display_name": "Python 3",
   "language": "python",
   "name": "python3"
  },
  "language_info": {
   "codemirror_mode": {
    "name": "ipython",
    "version": 3
   },
   "file_extension": ".py",
   "mimetype": "text/x-python",
   "name": "python",
   "nbconvert_exporter": "python",
   "pygments_lexer": "ipython3",
   "version": "3.7.12"
  },
  "papermill": {
   "default_parameters": {},
   "duration": 63.512085,
   "end_time": "2022-01-25T23:46:08.312289",
   "environment_variables": {},
   "exception": null,
   "input_path": "__notebook__.ipynb",
   "output_path": "__notebook__.ipynb",
   "parameters": {},
   "start_time": "2022-01-25T23:45:04.800204",
   "version": "2.3.3"
  }
 },
 "nbformat": 4,
 "nbformat_minor": 5
}
